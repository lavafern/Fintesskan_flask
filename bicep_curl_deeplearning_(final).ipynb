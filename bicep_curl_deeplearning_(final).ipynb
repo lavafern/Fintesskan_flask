{
  "nbformat": 4,
  "nbformat_minor": 0,
  "metadata": {
    "colab": {
      "provenance": []
    },
    "kernelspec": {
      "name": "python3",
      "display_name": "Python 3"
    },
    "language_info": {
      "name": "python"
    }
  },
  "cells": [
    {
      "cell_type": "code",
      "execution_count": 1,
      "metadata": {
        "id": "eZVG_kgozZqH"
      },
      "outputs": [],
      "source": [
        "import numpy as np\n",
        "import pandas as pd \n",
        "import tensorflow as tf\n",
        "from sklearn.model_selection import train_test_split\n",
        "from sklearn.metrics import confusion_matrix, precision_recall_fscore_support\n",
        "import pickle\n",
        "from keras.utils.np_utils import to_categorical\n",
        "import keras_tuner as kt\n",
        "from keras.callbacks import EarlyStopping\n",
        "import matplotlib.pyplot as plt"
      ]
    },
    {
      "cell_type": "code",
      "source": [
        "!pip install scikit-learn==1.1.2\n"
      ],
      "metadata": {
        "colab": {
          "base_uri": "https://localhost:8080/",
          "height": 366
        },
        "id": "n-ZIJwm5L1IB",
        "outputId": "3f1a7417-4de2-496a-d335-88fe8835d86d"
      },
      "execution_count": 11,
      "outputs": [
        {
          "output_type": "stream",
          "name": "stdout",
          "text": [
            "Looking in indexes: https://pypi.org/simple, https://us-python.pkg.dev/colab-wheels/public/simple/\n",
            "Collecting scikit-learn==1.1.2\n",
            "  Downloading scikit_learn-1.1.2-cp310-cp310-manylinux_2_17_x86_64.manylinux2014_x86_64.whl (30.5 MB)\n",
            "\u001b[2K     \u001b[90m━━━━━━━━━━━━━━━━━━━━━━━━━━━━━━━━━━━━━━━━\u001b[0m \u001b[32m30.5/30.5 MB\u001b[0m \u001b[31m59.3 MB/s\u001b[0m eta \u001b[36m0:00:00\u001b[0m\n",
            "\u001b[?25hRequirement already satisfied: numpy>=1.17.3 in /usr/local/lib/python3.10/dist-packages (from scikit-learn==1.1.2) (1.22.4)\n",
            "Requirement already satisfied: scipy>=1.3.2 in /usr/local/lib/python3.10/dist-packages (from scikit-learn==1.1.2) (1.10.1)\n",
            "Requirement already satisfied: joblib>=1.0.0 in /usr/local/lib/python3.10/dist-packages (from scikit-learn==1.1.2) (1.2.0)\n",
            "Requirement already satisfied: threadpoolctl>=2.0.0 in /usr/local/lib/python3.10/dist-packages (from scikit-learn==1.1.2) (3.1.0)\n",
            "Installing collected packages: scikit-learn\n",
            "  Attempting uninstall: scikit-learn\n",
            "    Found existing installation: scikit-learn 1.2.2\n",
            "    Uninstalling scikit-learn-1.2.2:\n",
            "      Successfully uninstalled scikit-learn-1.2.2\n",
            "Successfully installed scikit-learn-1.1.2\n"
          ]
        },
        {
          "output_type": "display_data",
          "data": {
            "application/vnd.colab-display-data+json": {
              "pip_warning": {
                "packages": [
                  "sklearn"
                ]
              }
            }
          },
          "metadata": {}
        }
      ]
    },
    {
      "cell_type": "code",
      "source": [
        "from google.colab import drive\n",
        "drive.mount('/content/drive')"
      ],
      "metadata": {
        "colab": {
          "base_uri": "https://localhost:8080/"
        },
        "id": "Ns4kL5szJdj1",
        "outputId": "af2e908b-ef43-4743-a406-a3dd92d78194"
      },
      "execution_count": 7,
      "outputs": [
        {
          "output_type": "stream",
          "name": "stdout",
          "text": [
            "Mounted at /content/drive\n"
          ]
        }
      ]
    },
    {
      "cell_type": "code",
      "source": [
        "!pip install keras-tuner"
      ],
      "metadata": {
        "colab": {
          "base_uri": "https://localhost:8080/"
        },
        "id": "3eJSnXyFJZ3d",
        "outputId": "e3fc551b-fd6c-48ef-d07e-eb06b6543b66"
      },
      "execution_count": 2,
      "outputs": [
        {
          "output_type": "stream",
          "name": "stdout",
          "text": [
            "Looking in indexes: https://pypi.org/simple, https://us-python.pkg.dev/colab-wheels/public/simple/\n",
            "Collecting keras-tuner\n",
            "  Downloading keras_tuner-1.3.5-py3-none-any.whl (176 kB)\n",
            "\u001b[2K     \u001b[90m━━━━━━━━━━━━━━━━━━━━━━━━━━━━━━━━━━━━━━━\u001b[0m \u001b[32m176.1/176.1 kB\u001b[0m \u001b[31m6.2 MB/s\u001b[0m eta \u001b[36m0:00:00\u001b[0m\n",
            "\u001b[?25hRequirement already satisfied: packaging in /usr/local/lib/python3.10/dist-packages (from keras-tuner) (23.1)\n",
            "Requirement already satisfied: requests in /usr/local/lib/python3.10/dist-packages (from keras-tuner) (2.27.1)\n",
            "Collecting kt-legacy (from keras-tuner)\n",
            "  Downloading kt_legacy-1.0.5-py3-none-any.whl (9.6 kB)\n",
            "Requirement already satisfied: urllib3<1.27,>=1.21.1 in /usr/local/lib/python3.10/dist-packages (from requests->keras-tuner) (1.26.15)\n",
            "Requirement already satisfied: certifi>=2017.4.17 in /usr/local/lib/python3.10/dist-packages (from requests->keras-tuner) (2022.12.7)\n",
            "Requirement already satisfied: charset-normalizer~=2.0.0 in /usr/local/lib/python3.10/dist-packages (from requests->keras-tuner) (2.0.12)\n",
            "Requirement already satisfied: idna<4,>=2.5 in /usr/local/lib/python3.10/dist-packages (from requests->keras-tuner) (3.4)\n",
            "Installing collected packages: kt-legacy, keras-tuner\n",
            "Successfully installed keras-tuner-1.3.5 kt-legacy-1.0.5\n"
          ]
        }
      ]
    },
    {
      "cell_type": "code",
      "source": [
        "#important landmarks\n",
        "landmarks = [\n",
        "    \"NOSE\",\n",
        "    \"LEFT_SHOULDER\",\n",
        "    \"RIGHT_SHOULDER\",\n",
        "    \"RIGHT_ELBOW\",\n",
        "    \"LEFT_ELBOW\",\n",
        "    \"RIGHT_WRIST\",\n",
        "    \"LEFT_WRIST\",\n",
        "    \"LEFT_HIP\",\n",
        "    \"RIGHT_HIP\",\n",
        "]\n",
        "\n",
        "\n",
        "\n",
        "HEADERS = [\"label\"]\n",
        "\n",
        "for lm in landmarks:\n",
        "    HEADERS += [f\"{lm.lower()}_x\", f\"{lm.lower()}_y\", f\"{lm.lower()}_z\", f\"{lm.lower()}_v\"]"
      ],
      "metadata": {
        "id": "Sly93LV5zv_c"
      },
      "execution_count": 2,
      "outputs": []
    },
    {
      "cell_type": "code",
      "source": [
        "print(HEADERS)"
      ],
      "metadata": {
        "colab": {
          "base_uri": "https://localhost:8080/"
        },
        "id": "W0THcVuA0IPp",
        "outputId": "6a550082-5181-421f-fdb8-6a7490b55a5e"
      },
      "execution_count": 3,
      "outputs": [
        {
          "output_type": "stream",
          "name": "stdout",
          "text": [
            "['label', 'nose_x', 'nose_y', 'nose_z', 'nose_v', 'left_shoulder_x', 'left_shoulder_y', 'left_shoulder_z', 'left_shoulder_v', 'right_shoulder_x', 'right_shoulder_y', 'right_shoulder_z', 'right_shoulder_v', 'right_elbow_x', 'right_elbow_y', 'right_elbow_z', 'right_elbow_v', 'left_elbow_x', 'left_elbow_y', 'left_elbow_z', 'left_elbow_v', 'right_wrist_x', 'right_wrist_y', 'right_wrist_z', 'right_wrist_v', 'left_wrist_x', 'left_wrist_y', 'left_wrist_z', 'left_wrist_v', 'left_hip_x', 'left_hip_y', 'left_hip_z', 'left_hip_v', 'right_hip_x', 'right_hip_y', 'right_hip_z', 'right_hip_v']\n"
          ]
        }
      ]
    },
    {
      "cell_type": "code",
      "source": [
        "def describe_dataset(dataset_path: str):\n",
        "\n",
        "\n",
        "    data = pd.read_csv(dataset_path)\n",
        "    print(f\"Headers: {list(data.columns.values)}\")\n",
        "    print(f'Number of rows: {data.shape[0]} \\nNumber of columns: {data.shape[1]}\\n')\n",
        "    print(f\"Labels: \\n{data['label'].value_counts()}\\n\")\n",
        "    print(f\"Missing values: {data.isnull().values.any()}\\n\")\n",
        "    \n",
        "    duplicate = data[data.duplicated()]\n",
        "    print(f\"Duplicate Rows : {len(duplicate.sum(axis=1))}\")\n",
        "\n",
        "    return data\n",
        "\n",
        "\n",
        "def round_up_metric_results(results) -> list:\n",
        "    '''Round up metrics results such as precision score, recall score, ...'''\n",
        "    return list(map(lambda el: round(el, 3), results))"
      ],
      "metadata": {
        "id": "bLxDUax10MNw"
      },
      "execution_count": 4,
      "outputs": []
    },
    {
      "cell_type": "code",
      "source": [
        "# load dataset\n",
        "df = describe_dataset(\"/content/drive/MyDrive/train_trest_bc/bc/train.csv\")\n",
        "\n",
        "# Categorizing label\n",
        "df.loc[df[\"label\"] == \"C\", \"label\"] = 0\n",
        "df.loc[df[\"label\"] == \"L\", \"label\"] = 1"
      ],
      "metadata": {
        "colab": {
          "base_uri": "https://localhost:8080/"
        },
        "id": "KOlHNv020iHh",
        "outputId": "eb9a775e-297b-4751-978b-969118645f27"
      },
      "execution_count": 5,
      "outputs": [
        {
          "output_type": "stream",
          "name": "stdout",
          "text": [
            "Headers: ['label', 'nose_x', 'nose_y', 'nose_z', 'nose_v', 'left_shoulder_x', 'left_shoulder_y', 'left_shoulder_z', 'left_shoulder_v', 'right_shoulder_x', 'right_shoulder_y', 'right_shoulder_z', 'right_shoulder_v', 'right_elbow_x', 'right_elbow_y', 'right_elbow_z', 'right_elbow_v', 'left_elbow_x', 'left_elbow_y', 'left_elbow_z', 'left_elbow_v', 'right_wrist_x', 'right_wrist_y', 'right_wrist_z', 'right_wrist_v', 'left_wrist_x', 'left_wrist_y', 'left_wrist_z', 'left_wrist_v', 'left_hip_x', 'left_hip_y', 'left_hip_z', 'left_hip_v', 'right_hip_x', 'right_hip_y', 'right_hip_z', 'right_hip_v']\n",
            "Number of rows: 15372 \n",
            "Number of columns: 37\n",
            "\n",
            "Labels: \n",
            "C    8238\n",
            "L    7134\n",
            "Name: label, dtype: int64\n",
            "\n",
            "Missing values: False\n",
            "\n",
            "Duplicate Rows : 0\n"
          ]
        }
      ]
    },
    {
      "cell_type": "code",
      "source": [
        "with open(\"/content/drive/MyDrive/train_trest_bc/bc/input_scaler.pkl\", \"rb\") as f:\n",
        "    sc = pickle.load(f)"
      ],
      "metadata": {
        "id": "4z06AxYR18a_"
      },
      "execution_count": 6,
      "outputs": []
    },
    {
      "cell_type": "code",
      "source": [
        "# Standard Scaling of features\n",
        "x = df.drop(\"label\", axis = 1)\n",
        "x = pd.DataFrame(sc.transform(x))\n",
        "\n",
        "y = df[\"label\"]\n",
        "\n",
        "# # Converting prediction to categorical\n",
        "y_cat = to_categorical(y)"
      ],
      "metadata": {
        "id": "_QPj000m2C6P"
      },
      "execution_count": 7,
      "outputs": []
    },
    {
      "cell_type": "code",
      "source": [
        "x_train, x_test, y_train, y_test = train_test_split(x.values, y_cat, test_size=0.2, random_state=1234)"
      ],
      "metadata": {
        "id": "OhSgm-dU2bI7"
      },
      "execution_count": 8,
      "outputs": []
    },
    {
      "cell_type": "code",
      "source": [
        "def describe_model(model):\n",
        "    '''\n",
        "    Describe Model architecture\n",
        "    '''\n",
        "    print(f\"Describe models architecture\")\n",
        "    for i, layer in enumerate(model.layers):\n",
        "        number_of_units = layer.units if hasattr(layer, 'units') else 0\n",
        "\n",
        "        if hasattr(layer, \"activation\"):\n",
        "            print(f\"Layer-{i + 1}: {number_of_units} units, func: \", layer.activation)\n",
        "        else:\n",
        "            print(f\"Layer-{i + 1}: {number_of_units} units, func: None\")"
      ],
      "metadata": {
        "id": "987W8B-n2gYn"
      },
      "execution_count": 9,
      "outputs": []
    },
    {
      "cell_type": "code",
      "source": [
        "def get_best_model(tuner):\n",
        "    '''\n",
        "    Describe and return the best model found from keras tuner\n",
        "    '''\n",
        "    best_hps = tuner.get_best_hyperparameters(num_trials=1)[0]\n",
        "    best_model = tuner.hypermodel.build(best_hps)\n",
        "\n",
        "    describe_model(best_model)\n",
        "\n",
        "    print(\"\\nOther params:\")\n",
        "    ignore_params = [\"tuner\", \"activation\", \"layer\", \"epoch\"]\n",
        "    for param, value in best_hps.values.items():\n",
        "        if not any(word in param for word in ignore_params):\n",
        "            print(f\"{param}: {value}\")\n",
        "\n",
        "    return best_model"
      ],
      "metadata": {
        "id": "Ohv8x89zESus"
      },
      "execution_count": 10,
      "outputs": []
    },
    {
      "cell_type": "code",
      "source": [
        "stop_early = EarlyStopping(monitor='val_loss', patience=3)\n",
        "\n",
        "# Final Results\n",
        "final_models = {}"
      ],
      "metadata": {
        "id": "kS3_tV8nEJeB"
      },
      "execution_count": 11,
      "outputs": []
    },
    {
      "cell_type": "code",
      "source": [
        "def model_builder(hp):\n",
        "    model = tf.keras.models.Sequential()\n",
        "    model.add(tf.keras.layers.Dense(36, input_dim = 36, activation = \"relu\"))\n",
        "\n",
        "    hp_activation = hp.Choice('activation', values=['relu', 'tanh'])\n",
        "    hp_layer_1 = hp.Int('layer_1', min_value=32, max_value=512, step=32)\n",
        "    hp_layer_2 = hp.Int('layer_2', min_value=32, max_value=512, step=32)\n",
        "    hp_layer_3 = hp.Int('layer_3', min_value=32, max_value=512, step=32)\n",
        "    hp_layer_4 = hp.Int('layer_4', min_value=32, max_value=512, step=32)\n",
        "    hp_layer_5 = hp.Int('layer_5', min_value=32, max_value=512, step=32)\n",
        "    hp_layer_6 = hp.Int('layer_6', min_value=32, max_value=512, step=32)\n",
        "    hp_layer_7 = hp.Int('layer_7', min_value=32, max_value=512, step=32)\n",
        "    hp_layer_8 = hp.Int('layer_8', min_value=32, max_value=512, step=32)\n",
        "    hp_learning_rate = hp.Choice('learning_rate', values=[1e-2, 1e-3, 1e-4])\n",
        "\n",
        "    model.add(tf.keras.layers.Dense(units=hp_layer_1, activation=hp_activation))\n",
        "    model.add(tf.keras.layers.Dense(units=hp_layer_2, activation=hp_activation))\n",
        "    model.add(tf.keras.layers.Dense(units=hp_layer_3, activation=hp_activation))\n",
        "    model.add(tf.keras.layers.Dense(units=hp_layer_4, activation=hp_activation))\n",
        "    model.add(tf.keras.layers.Dense(units=hp_layer_5, activation=hp_activation))\n",
        "    model.add(tf.keras.layers.Dense(units=hp_layer_6, activation=hp_activation))\n",
        "    model.add(tf.keras.layers.Dense(units=hp_layer_7, activation=hp_activation))\n",
        "    model.add(tf.keras.layers.Dense(units=hp_layer_8, activation=hp_activation))\n",
        "    model.add(tf.keras.layers.Dense(2, activation = \"softmax\"))\n",
        "\n",
        "    model.compile(optimizer=tf.keras.optimizers.Adam(learning_rate=hp_learning_rate), loss=\"categorical_crossentropy\", metrics = [\"accuracy\"])\n",
        "    \n",
        "    return model"
      ],
      "metadata": {
        "id": "yBvE8p5F2mW4"
      },
      "execution_count": 12,
      "outputs": []
    },
    {
      "cell_type": "code",
      "source": [
        "tuner_dl = kt.Hyperband(\n",
        "    model_builder,\n",
        "    objective='val_accuracy',\n",
        "    max_epochs=10,\n",
        "    directory='keras_tuner_dir',\n",
        "    project_name='keras_tuner_demo_6'\n",
        ")\n",
        "tuner_dl.search(x_train, y_train, validation_data=(x_test, y_test), epochs=10)"
      ],
      "metadata": {
        "id": "mijODWdK-f-L",
        "colab": {
          "base_uri": "https://localhost:8080/"
        },
        "outputId": "dc88f817-e4c0-470d-aaf9-0c8ae2e5878f"
      },
      "execution_count": 13,
      "outputs": [
        {
          "output_type": "stream",
          "name": "stdout",
          "text": [
            "Trial 30 Complete [00h 00m 38s]\n",
            "val_accuracy: 0.9954471588134766\n",
            "\n",
            "Best val_accuracy So Far: 0.9980487823486328\n",
            "Total elapsed time: 00h 07m 48s\n"
          ]
        }
      ]
    },
    {
      "cell_type": "code",
      "source": [
        "model_dl = get_best_model(tuner_dl)\n",
        "history=model_dl.fit(x_train, y_train, epochs=100, batch_size=10, validation_data=(x_test, y_test), callbacks=[stop_early])"
      ],
      "metadata": {
        "colab": {
          "base_uri": "https://localhost:8080/"
        },
        "id": "_N8adqd1DbHH",
        "outputId": "14856255-7e89-4e13-8365-937902bb8fff"
      },
      "execution_count": 14,
      "outputs": [
        {
          "output_type": "stream",
          "name": "stdout",
          "text": [
            "Describe models architecture\n",
            "Layer-1: 36 units, func:  <function relu at 0x7fad32dfecb0>\n",
            "Layer-2: 160 units, func:  <function relu at 0x7fad32dfecb0>\n",
            "Layer-3: 160 units, func:  <function relu at 0x7fad32dfecb0>\n",
            "Layer-4: 128 units, func:  <function relu at 0x7fad32dfecb0>\n",
            "Layer-5: 320 units, func:  <function relu at 0x7fad32dfecb0>\n",
            "Layer-6: 320 units, func:  <function relu at 0x7fad32dfecb0>\n",
            "Layer-7: 288 units, func:  <function relu at 0x7fad32dfecb0>\n",
            "Layer-8: 128 units, func:  <function relu at 0x7fad32dfecb0>\n",
            "Layer-9: 64 units, func:  <function relu at 0x7fad32dfecb0>\n",
            "Layer-10: 2 units, func:  <function softmax at 0x7fad32dfe290>\n",
            "\n",
            "Other params:\n",
            "learning_rate: 0.0001\n",
            "Epoch 1/100\n",
            "1230/1230 [==============================] - 7s 5ms/step - loss: 0.0856 - accuracy: 0.9741 - val_loss: 0.0175 - val_accuracy: 0.9948\n",
            "Epoch 2/100\n",
            "1230/1230 [==============================] - 5s 4ms/step - loss: 0.0236 - accuracy: 0.9937 - val_loss: 0.0143 - val_accuracy: 0.9964\n",
            "Epoch 3/100\n",
            "1230/1230 [==============================] - 6s 5ms/step - loss: 0.0174 - accuracy: 0.9950 - val_loss: 0.0132 - val_accuracy: 0.9961\n",
            "Epoch 4/100\n",
            "1230/1230 [==============================] - 5s 4ms/step - loss: 0.0129 - accuracy: 0.9959 - val_loss: 0.0145 - val_accuracy: 0.9954\n",
            "Epoch 5/100\n",
            "1230/1230 [==============================] - 6s 5ms/step - loss: 0.0108 - accuracy: 0.9965 - val_loss: 0.0072 - val_accuracy: 0.9984\n",
            "Epoch 6/100\n",
            "1230/1230 [==============================] - 5s 4ms/step - loss: 0.0094 - accuracy: 0.9971 - val_loss: 0.0127 - val_accuracy: 0.9964\n",
            "Epoch 7/100\n",
            "1230/1230 [==============================] - 5s 4ms/step - loss: 0.0070 - accuracy: 0.9977 - val_loss: 0.0109 - val_accuracy: 0.9967\n",
            "Epoch 8/100\n",
            "1230/1230 [==============================] - 6s 5ms/step - loss: 0.0087 - accuracy: 0.9969 - val_loss: 0.0077 - val_accuracy: 0.9974\n"
          ]
        }
      ]
    },
    {
      "cell_type": "code",
      "source": [
        "describe_model(model_dl)"
      ],
      "metadata": {
        "colab": {
          "base_uri": "https://localhost:8080/"
        },
        "id": "7ND3cGl6Fgw1",
        "outputId": "c546a6bd-e5fa-4ec1-fcf7-490ac157a438"
      },
      "execution_count": 15,
      "outputs": [
        {
          "output_type": "stream",
          "name": "stdout",
          "text": [
            "Describe models architecture\n",
            "Layer-1: 36 units, func:  <function relu at 0x7fad32dfecb0>\n",
            "Layer-2: 160 units, func:  <function relu at 0x7fad32dfecb0>\n",
            "Layer-3: 160 units, func:  <function relu at 0x7fad32dfecb0>\n",
            "Layer-4: 128 units, func:  <function relu at 0x7fad32dfecb0>\n",
            "Layer-5: 320 units, func:  <function relu at 0x7fad32dfecb0>\n",
            "Layer-6: 320 units, func:  <function relu at 0x7fad32dfecb0>\n",
            "Layer-7: 288 units, func:  <function relu at 0x7fad32dfecb0>\n",
            "Layer-8: 128 units, func:  <function relu at 0x7fad32dfecb0>\n",
            "Layer-9: 64 units, func:  <function relu at 0x7fad32dfecb0>\n",
            "Layer-10: 2 units, func:  <function softmax at 0x7fad32dfe290>\n"
          ]
        }
      ]
    },
    {
      "cell_type": "code",
      "source": [
        "evaluate = model_dl.evaluate(x=x_test,y=y_test)"
      ],
      "metadata": {
        "colab": {
          "base_uri": "https://localhost:8080/"
        },
        "id": "BEb19vhgs1md",
        "outputId": "e6938fc7-6dbd-4594-fe08-2676ab95ea18"
      },
      "execution_count": 16,
      "outputs": [
        {
          "output_type": "stream",
          "name": "stdout",
          "text": [
            "97/97 [==============================] - 0s 2ms/step - loss: 0.0077 - accuracy: 0.9974\n"
          ]
        }
      ]
    },
    {
      "cell_type": "code",
      "source": [
        "epoch = range(len(history.history[\"loss\"]))\n",
        "plt.figure()\n",
        "plt.plot(epoch, history.history['loss'], 'red', label = 'train_loss')\n",
        "plt.plot(epoch, history.history['val_loss'], 'blue', label = 'val_loss')\n",
        "plt.title(\"Training Loss on Dataset\")\n",
        "plt.xlabel(\"Epoch #\")\n",
        "plt.ylabel(\"Loss\")\n",
        "plt.legend()"
      ],
      "metadata": {
        "colab": {
          "base_uri": "https://localhost:8080/",
          "height": 489
        },
        "id": "XrmVuJRo3GIP",
        "outputId": "9930b909-5b1a-4894-b645-a89c38db415f"
      },
      "execution_count": 17,
      "outputs": [
        {
          "output_type": "execute_result",
          "data": {
            "text/plain": [
              "<matplotlib.legend.Legend at 0x7fad1d471cc0>"
            ]
          },
          "metadata": {},
          "execution_count": 17
        },
        {
          "output_type": "display_data",
          "data": {
            "text/plain": [
              "<Figure size 640x480 with 1 Axes>"
            ],
            "image/png": "[encoded data removed]"
          },
          "metadata": {}
        }
      ]
    },
    {
      "cell_type": "code",
      "source": [
        "epoch = range(len(history.history[\"loss\"]))\n",
        "plt.figure()\n",
        "plt.plot(epoch, history.history['accuracy'], 'red', label = 'train_accuracy')\n",
        "plt.plot(epoch, history.history['val_accuracy'], 'blue', label = 'val_accuaracy')\n",
        "plt.title(\"Training Accuracy on Dataset\")\n",
        "plt.xlabel(\"Epoch #\")\n",
        "plt.ylabel(\"accuracy\")\n",
        "plt.legend()"
      ],
      "metadata": {
        "colab": {
          "base_uri": "https://localhost:8080/",
          "height": 489
        },
        "id": "twYvSm9l3VdU",
        "outputId": "689a3efd-82e0-4de0-b9da-67035ff6f5bc"
      },
      "execution_count": null,
      "outputs": [
        {
          "output_type": "execute_result",
          "data": {
            "text/plain": [
              "<matplotlib.legend.Legend at 0x7fe21dc2df90>"
            ]
          },
          "metadata": {},
          "execution_count": 26
        },
        {
          "output_type": "display_data",
          "data": {
            "text/plain": [
              "<Figure size 640x480 with 1 Axes>"
            ],
            "image/png": "[encoded data removed]"
          },
          "metadata": {}
        }
      ]
    },
    {
      "cell_type": "code",
      "source": [
        "model_dl.save(\"/content/drive/MyDrive/train_trest_bc/bc/model/\")"
      ],
      "metadata": {
        "id": "kI6F8PqFLMAI",
        "colab": {
          "base_uri": "https://localhost:8080/"
        },
        "outputId": "b9c033e6-5f42-47b5-f7ce-88d1d0608f57"
      },
      "execution_count": 21,
      "outputs": [
        {
          "output_type": "stream",
          "name": "stderr",
          "text": [
            "WARNING:absl:Found untraced functions such as _update_step_xla while saving (showing 1 of 1). These functions will not be directly callable after loading.\n"
          ]
        }
      ]
    },
    {
      "cell_type": "code",
      "source": [
        "saved_model_path = \"/content/drive/MyDrive/train_trest_bc/bc/model/\"\n",
        "converter = tf.lite.TFLiteConverter.from_saved_model(saved_model_path)\n",
        "\n",
        "# Convert to TFLite model\n",
        "tflite_model = converter.convert()"
      ],
      "metadata": {
        "id": "WBjqM_3U7da-"
      },
      "execution_count": 22,
      "outputs": []
    },
    {
      "cell_type": "code",
      "source": [
        "tflite_model_path = \"/content/drive/MyDrive/train_trest_bc/bc/tflitemodel2/bc_model.tflite\"\n",
        "with open(tflite_model_path, 'wb') as f:\n",
        "    f.write(tflite_model)"
      ],
      "metadata": {
        "id": "-wtJS2h2QDrz"
      },
      "execution_count": 24,
      "outputs": []
    }
  ]
}